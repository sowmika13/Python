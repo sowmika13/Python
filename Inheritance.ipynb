{
 "cells": [
  {
   "cell_type": "markdown",
   "metadata": {},
   "source": [
    "# Types of Inheritance"
   ]
  },
  {
   "cell_type": "markdown",
   "metadata": {},
   "source": [
    "## single inheritance"
   ]
  },
  {
   "cell_type": "code",
   "execution_count": null,
   "metadata": {},
   "outputs": [],
   "source": [
    "Inheriting the properities of one class to another class is called single inheritance"
   ]
  },
  {
   "cell_type": "code",
   "execution_count": 1,
   "metadata": {},
   "outputs": [
    {
     "name": "stdout",
     "output_type": "stream",
     "text": [
      "parent class method1\n",
      "child class method2\n"
     ]
    }
   ],
   "source": [
    "class p:\n",
    "    def m1(self):\n",
    "        print(\"parent class method1\")\n",
    "class c(p):\n",
    "    def m2(self):\n",
    "        print(\"child class method2\")\n",
    "c=c()\n",
    "c.m1()\n",
    "c.m2()"
   ]
  },
  {
   "cell_type": "markdown",
   "metadata": {},
   "source": [
    "## Multilevel inheritance"
   ]
  },
  {
   "cell_type": "code",
   "execution_count": null,
   "metadata": {},
   "outputs": [],
   "source": [
    "Inheriting the properties from multiclasses to single class"
   ]
  },
  {
   "cell_type": "code",
   "execution_count": 2,
   "metadata": {},
   "outputs": [
    {
     "name": "stdout",
     "output_type": "stream",
     "text": [
      "parent method\n",
      "child 1 class method\n",
      "child 2 class method\n"
     ]
    }
   ],
   "source": [
    "class P:\n",
    "    def m1(self):\n",
    "        print(\"parent method\")\n",
    "class C1(P):\n",
    "    def m2(self):\n",
    "        print(\"child 1 class method\")\n",
    "class C2(C1):\n",
    "    def m3(self):\n",
    "        print(\"child 2 class method\")\n",
    "c=C2()\n",
    "c.m1()\n",
    "c.m2()\n",
    "c.m3()\n",
    "            "
   ]
  },
  {
   "cell_type": "markdown",
   "metadata": {},
   "source": [
    "## Hierachial inheritance"
   ]
  },
  {
   "cell_type": "code",
   "execution_count": null,
   "metadata": {},
   "outputs": [],
   "source": [
    "The concept of inheriting the properties from one class to multiple classes which are present at \n",
    "samelevel is known as hierachial inheritance"
   ]
  },
  {
   "cell_type": "code",
   "execution_count": 3,
   "metadata": {},
   "outputs": [
    {
     "name": "stdout",
     "output_type": "stream",
     "text": [
      "parent method\n",
      "child 1 class method\n",
      "parent method\n",
      "child 2 class method\n"
     ]
    }
   ],
   "source": [
    "#example program for hierachial inheritance\n",
    "class P:\n",
    "    def m1(self):\n",
    "        print(\"parent method\")\n",
    "class C1(P):\n",
    "    def m2(self):\n",
    "        print(\"child 1 class method\")\n",
    "class C2(P):\n",
    "    def m3(self):\n",
    "        print(\"child 2 class method\")\n",
    "c1=C1()\n",
    "c1.m1()\n",
    "c1.m2()\n",
    "c2=C2()\n",
    "c2.m1()\n",
    "c2.m3()\n",
    "            "
   ]
  },
  {
   "cell_type": "markdown",
   "metadata": {},
   "source": [
    "## Multiple inheritance"
   ]
  },
  {
   "cell_type": "code",
   "execution_count": null,
   "metadata": {},
   "outputs": [],
   "source": [
    "The concept of inheriting properties from multiple class into single class at a time, is known as multiple inheritance"
   ]
  },
  {
   "cell_type": "code",
   "execution_count": 5,
   "metadata": {},
   "outputs": [
    {
     "name": "stdout",
     "output_type": "stream",
     "text": [
      "parent 1 method\n",
      "parent 2 method\n",
      "child class method\n"
     ]
    }
   ],
   "source": [
    "#example program for multiple inheritance\n",
    "class P1:\n",
    "    def m1(self):\n",
    "        print(\"parent 1 method\")\n",
    "class P2:\n",
    "    def m2(self):\n",
    "        print(\"parent 2 method\")\n",
    "class C(P1,P2):\n",
    "    def m3(self):\n",
    "        print(\"child class method\")\n",
    "c=C()\n",
    "c.m1()\n",
    "c.m2()\n",
    "c.m3()\n",
    "            "
   ]
  },
  {
   "cell_type": "code",
   "execution_count": 6,
   "metadata": {},
   "outputs": [
    {
     "name": "stdout",
     "output_type": "stream",
     "text": [
      "parent 1 method\n",
      "child class method\n"
     ]
    }
   ],
   "source": [
    "#example program for multiple inheritance\n",
    "class P1:\n",
    "    def m1(self):\n",
    "        print(\"parent 1 method\")\n",
    "class P2:\n",
    "    def m2(self):\n",
    "        print(\"parent 2 method\")\n",
    "class C(P1,P2):\n",
    "    def m3(self):\n",
    "        print(\"child class method\")\n",
    "c=C()\n",
    "c.m1()\n",
    "#c.m2()\n",
    "c.m3()\n",
    "            "
   ]
  },
  {
   "cell_type": "code",
   "execution_count": 7,
   "metadata": {},
   "outputs": [
    {
     "name": "stdout",
     "output_type": "stream",
     "text": [
      "parent 2 method\n",
      "child class method\n"
     ]
    }
   ],
   "source": [
    "#example program for multiple inheritance\n",
    "class P1:\n",
    "    def m1(self):\n",
    "        print(\"parent 1 method\")\n",
    "class P2:\n",
    "    def m2(self):\n",
    "        print(\"parent 2 method\")\n",
    "class C(P1,P2):\n",
    "    def m3(self):\n",
    "        print(\"child class method\")\n",
    "c=C()\n",
    "#c.m1()\n",
    "c.m2()\n",
    "c.m3()\n",
    "            "
   ]
  },
  {
   "cell_type": "markdown",
   "metadata": {},
   "source": [
    "## Hybrid inheritance"
   ]
  },
  {
   "cell_type": "code",
   "execution_count": 9,
   "metadata": {},
   "outputs": [
    {
     "name": "stdout",
     "output_type": "stream",
     "text": [
      "parent 1 method\n",
      "parent 2 method\n",
      "parent 3 method\n",
      "child class method\n",
      "parent class method\n",
      "parent class method\n",
      "child class 1 method\n",
      "child class 2 method\n"
     ]
    }
   ],
   "source": [
    "class P1:\n",
    "    def m1(self):\n",
    "        print(\"parent 1 method\")\n",
    "class P2:\n",
    "    def m2(self):\n",
    "        print(\"parent 2 method\")\n",
    "class P3:\n",
    "    def m3(self):\n",
    "        print(\"parent 3 method\")\n",
    "class D(P1,P2,P3):\n",
    "    def m4(self):\n",
    "        print(\"child class method\")\n",
    "class E(D):\n",
    "    def m5(self):\n",
    "        print(\"parent class method\")\n",
    "class F(E):\n",
    "    def m6(self):\n",
    "        print(\"parent class method\")\n",
    "class G(F):\n",
    "    def m7(self):\n",
    "        print(\"child class 1 method\")\n",
    "class H(F):\n",
    "    def m8(self):\n",
    "        print(\"child class 2 method\")\n",
    "c=D()\n",
    "s=E()\n",
    "i=F()\n",
    "j=G()\n",
    "k=H()\n",
    "c.m1()\n",
    "c.m2()\n",
    "c.m3()\n",
    "c.m4()\n",
    "s.m5()\n",
    "i.m6()\n",
    "j.m7()\n",
    "k.m8()"
   ]
  },
  {
   "cell_type": "markdown",
   "metadata": {},
   "source": [
    "## cyclic Inheritance"
   ]
  },
  {
   "cell_type": "code",
   "execution_count": null,
   "metadata": {},
   "outputs": [],
   "source": [
    "The concept of inheriting the properties from one class to another class in cyclic way.\n",
    "But its not possible in python"
   ]
  },
  {
   "cell_type": "code",
   "execution_count": 8,
   "metadata": {},
   "outputs": [
    {
     "ename": "NameError",
     "evalue": "name 'B' is not defined",
     "output_type": "error",
     "traceback": [
      "\u001b[1;31m---------------------------------------------------------------------------\u001b[0m",
      "\u001b[1;31mNameError\u001b[0m                                 Traceback (most recent call last)",
      "\u001b[1;32m<ipython-input-8-b9551c64f5fc>\u001b[0m in \u001b[0;36m<module>\u001b[1;34m\u001b[0m\n\u001b[1;32m----> 1\u001b[1;33m \u001b[1;32mclass\u001b[0m \u001b[0mA\u001b[0m\u001b[1;33m(\u001b[0m\u001b[0mB\u001b[0m\u001b[1;33m)\u001b[0m\u001b[1;33m:\u001b[0m\u001b[1;33m\u001b[0m\u001b[1;33m\u001b[0m\u001b[0m\n\u001b[0m\u001b[0;32m      2\u001b[0m     \u001b[1;32mpass\u001b[0m\u001b[1;33m\u001b[0m\u001b[1;33m\u001b[0m\u001b[0m\n\u001b[0;32m      3\u001b[0m \u001b[1;32mclass\u001b[0m \u001b[0mB\u001b[0m\u001b[1;33m(\u001b[0m\u001b[0mA\u001b[0m\u001b[1;33m)\u001b[0m\u001b[1;33m:\u001b[0m\u001b[1;33m\u001b[0m\u001b[1;33m\u001b[0m\u001b[0m\n\u001b[0;32m      4\u001b[0m     \u001b[1;32mpass\u001b[0m\u001b[1;33m\u001b[0m\u001b[1;33m\u001b[0m\u001b[0m\n",
      "\u001b[1;31mNameError\u001b[0m: name 'B' is not defined"
     ]
    }
   ],
   "source": [
    "class A(B):\n",
    "    pass\n",
    "class B(A):\n",
    "    pass"
   ]
  },
  {
   "cell_type": "code",
   "execution_count": 9,
   "metadata": {},
   "outputs": [
    {
     "ename": "NameError",
     "evalue": "name 'A' is not defined",
     "output_type": "error",
     "traceback": [
      "\u001b[1;31m---------------------------------------------------------------------------\u001b[0m",
      "\u001b[1;31mNameError\u001b[0m                                 Traceback (most recent call last)",
      "\u001b[1;32m<ipython-input-9-80814c614550>\u001b[0m in \u001b[0;36m<module>\u001b[1;34m\u001b[0m\n\u001b[1;32m----> 1\u001b[1;33m \u001b[1;32mclass\u001b[0m \u001b[0mA\u001b[0m\u001b[1;33m(\u001b[0m\u001b[0mA\u001b[0m\u001b[1;33m)\u001b[0m\u001b[1;33m:\u001b[0m\u001b[1;33m\u001b[0m\u001b[1;33m\u001b[0m\u001b[0m\n\u001b[0m\u001b[0;32m      2\u001b[0m     \u001b[1;32mpass\u001b[0m\u001b[1;33m\u001b[0m\u001b[1;33m\u001b[0m\u001b[0m\n",
      "\u001b[1;31mNameError\u001b[0m: name 'A' is not defined"
     ]
    }
   ],
   "source": [
    "class A(A):\n",
    "    pass"
   ]
  },
  {
   "cell_type": "markdown",
   "metadata": {},
   "source": [
    "# Method Resolution Order(MRO)"
   ]
  },
  {
   "cell_type": "code",
   "execution_count": null,
   "metadata": {},
   "outputs": [],
   "source": [
    "DLR is the concept used.\n",
    "depth first left to right\n",
    "if multiple child class, then head and tail method is used."
   ]
  },
  {
   "cell_type": "code",
   "execution_count": 10,
   "metadata": {},
   "outputs": [
    {
     "name": "stdout",
     "output_type": "stream",
     "text": [
      "[<class '__main__.A'>, <class 'object'>]\n",
      "[<class '__main__.B'>, <class '__main__.A'>, <class 'object'>]\n",
      "[<class '__main__.C'>, <class '__main__.A'>, <class 'object'>]\n",
      "[<class '__main__.D'>, <class '__main__.B'>, <class '__main__.C'>, <class '__main__.A'>, <class 'object'>]\n"
     ]
    }
   ],
   "source": [
    "class A:\n",
    "    pass\n",
    "class B(A):\n",
    "    pass\n",
    "class C(A):\n",
    "    pass\n",
    "class D(B,C):\n",
    "    pass\n",
    "print(A.mro())\n",
    "print(B.mro())\n",
    "print(C.mro())\n",
    "print(D.mro())"
   ]
  },
  {
   "cell_type": "markdown",
   "metadata": {},
   "source": [
    "# Super() method"
   ]
  },
  {
   "cell_type": "code",
   "execution_count": null,
   "metadata": {},
   "outputs": [],
   "source": [
    "super() method is inbuilt method used to call the super class constructors, variables methods from child class"
   ]
  },
  {
   "cell_type": "code",
   "execution_count": 3,
   "metadata": {},
   "outputs": [
    {
     "name": "stdout",
     "output_type": "stream",
     "text": [
      "name is: sowmika\n",
      "age is: 23\n",
      "rollno: 1024\n",
      "marks: 80\n"
     ]
    }
   ],
   "source": [
    "class person:\n",
    "    def __init__(self,name,age):\n",
    "        self.name=name\n",
    "        self.age=age\n",
    "    def display(self):\n",
    "        print(\"name is:\",self.name)\n",
    "        print(\"age is:\",self.age)\n",
    "class student(person):\n",
    "    def __init__(self,name,age,rollno,marks):\n",
    "        super().__init__(name,age)\n",
    "        self.rollno=rollno\n",
    "        self.marks=marks\n",
    "    def display(self):\n",
    "        super().display()\n",
    "        print(\"rollno:\",self.rollno)\n",
    "        print(\"marks:\",self.marks)\n",
    "s1=student(\"sowmika\",23,1024,80)\n",
    "s1.display()"
   ]
  },
  {
   "cell_type": "code",
   "execution_count": null,
   "metadata": {},
   "outputs": [],
   "source": []
  }
 ],
 "metadata": {
  "kernelspec": {
   "display_name": "Python 3",
   "language": "python",
   "name": "python3"
  },
  "language_info": {
   "codemirror_mode": {
    "name": "ipython",
    "version": 3
   },
   "file_extension": ".py",
   "mimetype": "text/x-python",
   "name": "python",
   "nbconvert_exporter": "python",
   "pygments_lexer": "ipython3",
   "version": "3.8.5"
  }
 },
 "nbformat": 4,
 "nbformat_minor": 4
}
