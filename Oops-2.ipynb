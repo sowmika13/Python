{
 "cells": [
  {
   "cell_type": "markdown",
   "metadata": {},
   "source": [
    "# Types of Variables"
   ]
  },
  {
   "cell_type": "markdown",
   "metadata": {},
   "source": [
    "## Instance variables"
   ]
  },
  {
   "cell_type": "markdown",
   "metadata": {},
   "source": [
    "### a. Inside the constructor by using self variable"
   ]
  },
  {
   "cell_type": "code",
   "execution_count": 2,
   "metadata": {},
   "outputs": [
    {
     "name": "stdout",
     "output_type": "stream",
     "text": [
      "{'eno': 100, 'name': 'Sowmika'}\n"
     ]
    }
   ],
   "source": [
    "class employee:\n",
    "    def __init__(self):\n",
    "        self.eno=100 #instance variable\n",
    "        self.name=\"Sowmika\"\n",
    "\n",
    "e=employee()\n",
    "print(e.__dict__)"
   ]
  },
  {
   "cell_type": "markdown",
   "metadata": {},
   "source": [
    "### b. Inside the instance method by using self variable"
   ]
  },
  {
   "cell_type": "code",
   "execution_count": 3,
   "metadata": {},
   "outputs": [
    {
     "name": "stdout",
     "output_type": "stream",
     "text": [
      "{'hi': 10, 'hello': 20, 'hey': 30}\n"
     ]
    }
   ],
   "source": [
    "class test:\n",
    "    def __init__(self):\n",
    "        self.hi=10\n",
    "        self.hello=20\n",
    "    def m(self):\n",
    "        self.hey=30 #instance variable inside instance method\n",
    "        \n",
    "t=test()\n",
    "t.m()\n",
    "print(t.__dict__)"
   ]
  },
  {
   "cell_type": "code",
   "execution_count": 5,
   "metadata": {},
   "outputs": [
    {
     "name": "stdout",
     "output_type": "stream",
     "text": [
      "{'hi': 10, 'hello': 20}\n",
      "{'hi': 10, 'hello': 20, 'hey': 30}\n"
     ]
    }
   ],
   "source": [
    "class test:\n",
    "    def __init__(self):\n",
    "        self.hi=10\n",
    "        self.hello=20\n",
    "    def m(self):\n",
    "        self.hey=30 #instance variable inside instance method\n",
    "        \n",
    "t=test()\n",
    "t1=test()\n",
    "t.m()\n",
    "print(t1.__dict__)\n",
    "print(t.__dict__)"
   ]
  },
  {
   "cell_type": "code",
   "execution_count": 6,
   "metadata": {},
   "outputs": [
    {
     "name": "stdout",
     "output_type": "stream",
     "text": [
      "{'hi': 10, 'hello': 20, 'hey': 30}\n",
      "{'hi': 10, 'hello': 20, 'hey': 30}\n"
     ]
    }
   ],
   "source": [
    "class test:\n",
    "    def __init__(self):\n",
    "        self.hi=10\n",
    "        self.hello=20\n",
    "    def m(self):\n",
    "        self.hey=30 #instance variable inside instance method\n",
    "        \n",
    "t=test()\n",
    "t1=test()\n",
    "t.m()\n",
    "t1.m()\n",
    "print(t1.__dict__)\n",
    "print(t.__dict__)"
   ]
  },
  {
   "cell_type": "markdown",
   "metadata": {},
   "source": [
    "### c. Outside of the class by using object reference variable "
   ]
  },
  {
   "cell_type": "code",
   "execution_count": 7,
   "metadata": {},
   "outputs": [
    {
     "name": "stdout",
     "output_type": "stream",
     "text": [
      "{'hi': 10, 'hello': 20, 'hey': 30, 'hola': 40}\n"
     ]
    }
   ],
   "source": [
    "class test:\n",
    "    def __init__(self):\n",
    "        self.hi=10\n",
    "        self.hello=20\n",
    "    def m(self):\n",
    "        self.hey=30\n",
    "        \n",
    "t=test()\n",
    "t.m()\n",
    "t.hola=40\n",
    "print(t.__dict__)"
   ]
  },
  {
   "cell_type": "markdown",
   "metadata": {},
   "source": [
    "#### accessing of instance variables"
   ]
  },
  {
   "cell_type": "code",
   "execution_count": 8,
   "metadata": {},
   "outputs": [
    {
     "name": "stdout",
     "output_type": "stream",
     "text": [
      "10\n",
      "30\n"
     ]
    }
   ],
   "source": [
    "#accessing of instance variables inside of class inside of instance method\n",
    "class test:\n",
    "    def __init__(self):\n",
    "        self.hi=10\n",
    "        self.hello=20\n",
    "    def m(self):\n",
    "        self.hey=30\n",
    "        print(self.hi)\n",
    "        print(self.hey)\n",
    "        \n",
    "t=test()\n",
    "t.m()\n"
   ]
  },
  {
   "cell_type": "code",
   "execution_count": 9,
   "metadata": {},
   "outputs": [],
   "source": [
    "#accessing of instance variables outside of class\n",
    "class test:\n",
    "    def __init__(self):\n",
    "        self.hi=10\n",
    "        self.hello=20\n",
    "    def m(self):\n",
    "        self.hey=30\n",
    "        #print(self.hi)\n",
    "        #print(self.hey)\n",
    "        \n",
    "t=test()\n",
    "t.m()\n"
   ]
  },
  {
   "cell_type": "code",
   "execution_count": 10,
   "metadata": {},
   "outputs": [
    {
     "name": "stdout",
     "output_type": "stream",
     "text": [
      "10 20 30\n"
     ]
    }
   ],
   "source": [
    "print(t.hi,t.hello,t.hey)"
   ]
  },
  {
   "cell_type": "code",
   "execution_count": null,
   "metadata": {},
   "outputs": [],
   "source": []
  }
 ],
 "metadata": {
  "kernelspec": {
   "display_name": "Python 3",
   "language": "python",
   "name": "python3"
  },
  "language_info": {
   "codemirror_mode": {
    "name": "ipython",
    "version": 3
   },
   "file_extension": ".py",
   "mimetype": "text/x-python",
   "name": "python",
   "nbconvert_exporter": "python",
   "pygments_lexer": "ipython3",
   "version": "3.8.5"
  }
 },
 "nbformat": 4,
 "nbformat_minor": 4
}
