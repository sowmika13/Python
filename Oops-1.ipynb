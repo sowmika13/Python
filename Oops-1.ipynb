{
 "cells": [
  {
   "cell_type": "code",
   "execution_count": 4,
   "metadata": {},
   "outputs": [
    {
     "name": "stdout",
     "output_type": "stream",
     "text": [
      "python6pm.__doc__\n"
     ]
    }
   ],
   "source": [
    "#example program for class\n",
    "class python6pm:\n",
    "    '''python oops class started from today'''\n",
    "    print(\"python6pm.__doc__\")\n",
    "    "
   ]
  },
  {
   "cell_type": "code",
   "execution_count": 5,
   "metadata": {},
   "outputs": [
    {
     "name": "stdout",
     "output_type": "stream",
     "text": [
      "Help on class python6pm in module __main__:\n",
      "\n",
      "class python6pm(builtins.object)\n",
      " |  python oops class started from today\n",
      " |  \n",
      " |  Data descriptors defined here:\n",
      " |  \n",
      " |  __dict__\n",
      " |      dictionary for instance variables (if defined)\n",
      " |  \n",
      " |  __weakref__\n",
      " |      list of weak references to the object (if defined)\n",
      "\n"
     ]
    }
   ],
   "source": [
    "help(python6pm)"
   ]
  },
  {
   "cell_type": "code",
   "execution_count": 6,
   "metadata": {},
   "outputs": [
    {
     "name": "stdout",
     "output_type": "stream",
     "text": [
      "Hello I am: ammu\n",
      "My age is: 19\n",
      "My marks are: 98\n"
     ]
    }
   ],
   "source": [
    "#example of class with variable and methods\n",
    "class student:\n",
    "    '''this is the class of student details'''\n",
    "    def __init__(self):\n",
    "        self.name=\"ammu\"\n",
    "        self.age=\"19\"\n",
    "        self.marks=\"98\"\n",
    "    def details(self):\n",
    "        print(\"Hello I am:\",self.name)\n",
    "        print(\"My age is:\",self.age)\n",
    "        print(\"My marks are:\",self.marks)\n",
    "d=student()\n",
    "d.details()"
   ]
  },
  {
   "cell_type": "code",
   "execution_count": 7,
   "metadata": {},
   "outputs": [
    {
     "name": "stdout",
     "output_type": "stream",
     "text": [
      "Help on class student in module __main__:\n",
      "\n",
      "class student(builtins.object)\n",
      " |  this is the class of student details\n",
      " |  \n",
      " |  Methods defined here:\n",
      " |  \n",
      " |  __init__(self)\n",
      " |      Initialize self.  See help(type(self)) for accurate signature.\n",
      " |  \n",
      " |  details(self)\n",
      " |  \n",
      " |  ----------------------------------------------------------------------\n",
      " |  Data descriptors defined here:\n",
      " |  \n",
      " |  __dict__\n",
      " |      dictionary for instance variables (if defined)\n",
      " |  \n",
      " |  __weakref__\n",
      " |      list of weak references to the object (if defined)\n",
      "\n"
     ]
    }
   ],
   "source": [
    "help(student)"
   ]
  },
  {
   "cell_type": "code",
   "execution_count": 12,
   "metadata": {},
   "outputs": [
    {
     "name": "stdout",
     "output_type": "stream",
     "text": [
      "Hello I am: ammu\n",
      "My age is: 19\n",
      "My marks are: 98\n"
     ]
    }
   ],
   "source": [
    "#example of class with variable and methods\n",
    "class student:\n",
    "    '''this is the class of student details'''\n",
    "    def __init__(self,name,age,marks):\n",
    "        self.name=name\n",
    "        self.age=age\n",
    "        self.marks=marks\n",
    "    def details(self):\n",
    "        print(\"Hello I am:\",self.name)\n",
    "        print(\"My age is:\",self.age)\n",
    "        print(\"My marks are:\",self.marks)\n",
    "d=student(\"ammu\",19,98)\n",
    "d.details()"
   ]
  },
  {
   "cell_type": "code",
   "execution_count": 14,
   "metadata": {},
   "outputs": [
    {
     "name": "stdout",
     "output_type": "stream",
     "text": [
      "constructor execution\n",
      "method execution\n"
     ]
    }
   ],
   "source": [
    "#program to demonstrate the concept of constructor will be executed only once per object\n",
    "class test:\n",
    "    def __init__(self):\n",
    "        print(\"constructor execution\")\n",
    "    def m1(self):\n",
    "        print(\"method execution\")\n",
    "d1=test()\n",
    "d1.m1()"
   ]
  },
  {
   "cell_type": "code",
   "execution_count": 15,
   "metadata": {},
   "outputs": [
    {
     "name": "stdout",
     "output_type": "stream",
     "text": [
      "constructor execution\n",
      "constructor execution\n",
      "method execution\n"
     ]
    }
   ],
   "source": [
    "#program to demonstrate the concept of constructor will be executed only once per object\n",
    "class test:\n",
    "    def __init__(self):\n",
    "        print(\"constructor execution\")\n",
    "    def m1(self):\n",
    "        print(\"method execution\")\n",
    "d1=test()\n",
    "d2=test()\n",
    "d1.m1()"
   ]
  },
  {
   "cell_type": "code",
   "execution_count": 16,
   "metadata": {},
   "outputs": [
    {
     "name": "stdout",
     "output_type": "stream",
     "text": [
      "method execution\n",
      "method execution\n"
     ]
    }
   ],
   "source": [
    "d1.m1()\n",
    "d2.m1()"
   ]
  },
  {
   "cell_type": "code",
   "execution_count": 17,
   "metadata": {},
   "outputs": [
    {
     "name": "stdout",
     "output_type": "stream",
     "text": [
      "constructor execution\n",
      "Sowmika\n",
      "method execution\n"
     ]
    }
   ],
   "source": [
    "#program to demonstrate the concept of constructor will be executed only once per object\n",
    "class test:\n",
    "    def __init__(self):\n",
    "        print(\"constructor execution\")\n",
    "        print(\"Sowmika\")\n",
    "    def m1(self):\n",
    "        print(\"method execution\")\n",
    "d1=test()\n",
    "d1.m1()"
   ]
  },
  {
   "cell_type": "code",
   "execution_count": 18,
   "metadata": {},
   "outputs": [
    {
     "name": "stdout",
     "output_type": "stream",
     "text": [
      "constructor execution\n",
      "Sowmika\n",
      "method execution\n"
     ]
    }
   ],
   "source": [
    "#program to demonstrate the concept of constructor will be executed only once per object\n",
    "class test:\n",
    "    def __init__(self):\n",
    "        print(\"constructor execution\")\n",
    "        print(\"Sowmika\")\n",
    "    def m1(self):\n",
    "        print(\"method execution\")\n",
    "d1=test()\n",
    "#d2=test()\n",
    "d1.m1()\n",
    "#d2.m1()"
   ]
  },
  {
   "cell_type": "code",
   "execution_count": 19,
   "metadata": {},
   "outputs": [
    {
     "name": "stdout",
     "output_type": "stream",
     "text": [
      "constructor execution\n",
      "Sowmika\n",
      "constructor execution\n",
      "Sowmika\n",
      "method execution\n",
      "method execution\n"
     ]
    }
   ],
   "source": [
    "#program to demonstrate the concept of constructor will be executed only once per object\n",
    "class test:\n",
    "    def __init__(self):\n",
    "        print(\"constructor execution\")\n",
    "        print(\"Sowmika\")\n",
    "    def m1(self):\n",
    "        print(\"method execution\")\n",
    "d1=test()\n",
    "d2=test()\n",
    "d1.m1()\n",
    "d2.m1()"
   ]
  },
  {
   "cell_type": "code",
   "execution_count": 20,
   "metadata": {},
   "outputs": [
    {
     "ename": "NameError",
     "evalue": "name 'd3' is not defined",
     "output_type": "error",
     "traceback": [
      "\u001b[1;31m---------------------------------------------------------------------------\u001b[0m",
      "\u001b[1;31mNameError\u001b[0m                                 Traceback (most recent call last)",
      "\u001b[1;32m<ipython-input-20-90191680dce5>\u001b[0m in \u001b[0;36m<module>\u001b[1;34m\u001b[0m\n\u001b[1;32m----> 1\u001b[1;33m \u001b[0md3\u001b[0m\u001b[1;33m.\u001b[0m\u001b[0mtest\u001b[0m\u001b[1;33m(\u001b[0m\u001b[1;33m)\u001b[0m\u001b[1;33m\u001b[0m\u001b[1;33m\u001b[0m\u001b[0m\n\u001b[0m\u001b[0;32m      2\u001b[0m \u001b[0md3\u001b[0m\u001b[1;33m.\u001b[0m\u001b[0m__init__\u001b[0m\u001b[1;33m(\u001b[0m\u001b[1;33m)\u001b[0m\u001b[1;33m\u001b[0m\u001b[1;33m\u001b[0m\u001b[0m\n",
      "\u001b[1;31mNameError\u001b[0m: name 'd3' is not defined"
     ]
    }
   ],
   "source": [
    "d3.test()\n",
    "d3.__init__()"
   ]
  },
  {
   "cell_type": "code",
   "execution_count": 22,
   "metadata": {},
   "outputs": [
    {
     "name": "stdout",
     "output_type": "stream",
     "text": [
      "constructor execution\n",
      "Sowmika\n",
      "constructor execution\n",
      "Sowmika\n",
      "constructor execution\n",
      "Sowmika\n",
      "method execution\n",
      "method execution\n"
     ]
    }
   ],
   "source": [
    "#program to demonstrate the concept of constructor will be executed only once per object\n",
    "class test:\n",
    "    def __init__(self):\n",
    "        print(\"constructor execution\")\n",
    "        print(\"Sowmika\")\n",
    "    def m1(self):\n",
    "        print(\"method execution\")\n",
    "d1=test()\n",
    "d2=test()\n",
    "d3=test()\n",
    "d1.m1()\n",
    "d2.m1()"
   ]
  },
  {
   "cell_type": "code",
   "execution_count": 24,
   "metadata": {},
   "outputs": [
    {
     "name": "stdout",
     "output_type": "stream",
     "text": [
      "constructor execution\n",
      "Sowmika\n",
      "constructor execution\n",
      "Sowmika\n"
     ]
    }
   ],
   "source": [
    "d3=test()\n",
    "d3.__init__()"
   ]
  },
  {
   "cell_type": "code",
   "execution_count": null,
   "metadata": {},
   "outputs": [],
   "source": []
  }
 ],
 "metadata": {
  "kernelspec": {
   "display_name": "Python 3",
   "language": "python",
   "name": "python3"
  },
  "language_info": {
   "codemirror_mode": {
    "name": "ipython",
    "version": 3
   },
   "file_extension": ".py",
   "mimetype": "text/x-python",
   "name": "python",
   "nbconvert_exporter": "python",
   "pygments_lexer": "ipython3",
   "version": "3.8.5"
  }
 },
 "nbformat": 4,
 "nbformat_minor": 4
}
