{
 "cells": [
  {
   "cell_type": "code",
   "execution_count": 1,
   "metadata": {},
   "outputs": [
    {
     "name": "stdout",
     "output_type": "stream",
     "text": [
      "parent 1 method\n",
      "parent 2 method\n",
      "parent 3 method\n",
      "child class method\n",
      "parent class method\n",
      "parent class method\n",
      "child class 1 method\n",
      "child class 2 method\n"
     ]
    }
   ],
   "source": [
    "#example program for hybrid inheritance\n",
    "class P1:\n",
    "    def m1(self):\n",
    "        print(\"parent 1 method\")\n",
    "class P2:\n",
    "    def m2(self):\n",
    "        print(\"parent 2 method\")\n",
    "class P3:\n",
    "    def m3(self):\n",
    "        print(\"parent 3 method\")\n",
    "class D(P1,P2,P3):\n",
    "    def m4(self):\n",
    "        print(\"child class method\")\n",
    "class E(D):\n",
    "    def m5(self):\n",
    "        print(\"parent class method\")\n",
    "class F(E):\n",
    "    def m6(self):\n",
    "        print(\"parent class method\")\n",
    "class G(F):\n",
    "    def m7(self):\n",
    "        print(\"child class 1 method\")\n",
    "class H(F):\n",
    "    def m8(self):\n",
    "        print(\"child class 2 method\")\n",
    "c=D()\n",
    "s=E()\n",
    "i=F()\n",
    "j=G()\n",
    "k=H()\n",
    "c.m1()\n",
    "c.m2()\n",
    "c.m3()\n",
    "c.m4()\n",
    "s.m5()\n",
    "i.m6()\n",
    "j.m7()\n",
    "k.m8()"
   ]
  },
  {
   "cell_type": "code",
   "execution_count": null,
   "metadata": {},
   "outputs": [],
   "source": []
  }
 ],
 "metadata": {
  "kernelspec": {
   "display_name": "Python 3",
   "language": "python",
   "name": "python3"
  },
  "language_info": {
   "codemirror_mode": {
    "name": "ipython",
    "version": 3
   },
   "file_extension": ".py",
   "mimetype": "text/x-python",
   "name": "python",
   "nbconvert_exporter": "python",
   "pygments_lexer": "ipython3",
   "version": "3.8.5"
  }
 },
 "nbformat": 4,
 "nbformat_minor": 4
}
